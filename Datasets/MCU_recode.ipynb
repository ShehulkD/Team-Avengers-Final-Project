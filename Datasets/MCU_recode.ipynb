{
 "cells": [
  {
   "cell_type": "code",
   "execution_count": 16,
   "id": "05f3b35e-bab8-4d8e-b621-d297fb72a9c5",
   "metadata": {},
   "outputs": [],
   "source": [
    "import pandas as pd\n",
    "import numpy as np\n",
    "import scipy\n",
    "import seaborn as sns\n",
    "import matplotlib.pyplot as plt"
   ]
  },
  {
   "cell_type": "code",
   "execution_count": 13,
   "id": "cd646aa1-e80d-4885-91f9-6c511518e0fa",
   "metadata": {},
   "outputs": [],
   "source": [
    "mcu = pd.read_csv('/Users/nowickipenguins/Desktop/BenDataScience/Final Project/MCU_Original.csv')"
   ]
  },
  {
   "cell_type": "code",
   "execution_count": null,
   "id": "6972f200-79f1-4a05-8bd3-810f1a1b6353",
   "metadata": {},
   "outputs": [],
   "source": [
    "# adding column with the 2022 CPI"
   ]
  },
  {
   "cell_type": "code",
   "execution_count": 19,
   "id": "135ff1a0-4f03-4840-875e-7bb8aac2bed7",
   "metadata": {},
   "outputs": [],
   "source": [
    "mcu['CPI_2022'] = 294.4"
   ]
  },
  {
   "cell_type": "code",
   "execution_count": null,
   "id": "505a2bc2-dc0e-4f19-a693-d4b9a1da44db",
   "metadata": {},
   "outputs": [],
   "source": [
    "# Adjusting release date to only reflect year...dropping extraneous columns"
   ]
  },
  {
   "cell_type": "code",
   "execution_count": 22,
   "id": "404aae41-97da-4ac9-8d98-9d991138c01c",
   "metadata": {},
   "outputs": [],
   "source": [
    "mcu[[\"Month\",\"Day\",\"Year\"]] = mcu[\"release_date\"].str.split(\"/\", expand = True)"
   ]
  },
  {
   "cell_type": "code",
   "execution_count": 24,
   "id": "3a5371e4-be5f-46d3-bd66-ca774612158e",
   "metadata": {},
   "outputs": [],
   "source": [
    "mcu = mcu.drop(mcu.columns[[2,11,12]], axis = 1)"
   ]
  },
  {
   "cell_type": "code",
   "execution_count": null,
   "id": "657d4219-01f7-45e0-a34c-175c8e760440",
   "metadata": {},
   "outputs": [],
   "source": [
    "# pulling CPI data from API...THIS MAY BE IGNORED FOR THE TIME BEING"
   ]
  },
  {
   "cell_type": "code",
   "execution_count": 26,
   "id": "78ca2413-fae2-464e-9085-3044ee91294f",
   "metadata": {},
   "outputs": [
    {
     "name": "stdout",
     "output_type": "stream",
     "text": [
      "\u001b[33mDEPRECATION: Configuring installation scheme with distutils config files is deprecated and will no longer work in the near future. If you are using a Homebrew or Linuxbrew Python, please see discussion at https://github.com/Homebrew/homebrew-core/issues/76621\u001b[0m\u001b[33m\n",
      "\u001b[0mRequirement already satisfied: requests in /usr/local/lib/python3.9/site-packages (2.27.1)\n",
      "Requirement already satisfied: urllib3<1.27,>=1.21.1 in /usr/local/lib/python3.9/site-packages (from requests) (1.26.9)\n",
      "Requirement already satisfied: charset-normalizer~=2.0.0 in /usr/local/lib/python3.9/site-packages (from requests) (2.0.12)\n",
      "Requirement already satisfied: idna<4,>=2.5 in /usr/local/lib/python3.9/site-packages (from requests) (3.3)\n",
      "Requirement already satisfied: certifi>=2017.4.17 in /usr/local/lib/python3.9/site-packages (from requests) (2022.5.18.1)\n",
      "\u001b[33mDEPRECATION: Configuring installation scheme with distutils config files is deprecated and will no longer work in the near future. If you are using a Homebrew or Linuxbrew Python, please see discussion at https://github.com/Homebrew/homebrew-core/issues/76621\u001b[0m\u001b[33m\n",
      "\u001b[0m\u001b[33mWARNING: There was an error checking the latest version of pip.\u001b[0m\u001b[33m\n",
      "\u001b[0mNote: you may need to restart the kernel to use updated packages.\n"
     ]
    }
   ],
   "source": [
    "pip install requests"
   ]
  },
  {
   "cell_type": "code",
   "execution_count": 30,
   "id": "c00c494c-28c6-455e-9795-d39e7be898af",
   "metadata": {},
   "outputs": [],
   "source": [
    "import requests"
   ]
  },
  {
   "cell_type": "code",
   "execution_count": 34,
   "id": "54b0787e-366c-4a87-aaf5-7bb06b63cbf8",
   "metadata": {},
   "outputs": [
    {
     "name": "stdout",
     "output_type": "stream",
     "text": [
      "\u001b[33mDEPRECATION: Configuring installation scheme with distutils config files is deprecated and will no longer work in the near future. If you are using a Homebrew or Linuxbrew Python, please see discussion at https://github.com/Homebrew/homebrew-core/issues/76621\u001b[0m\u001b[33m\n",
      "\u001b[0mCollecting prettytable\n",
      "  Downloading prettytable-3.4.1-py3-none-any.whl (26 kB)\n",
      "Requirement already satisfied: wcwidth in /usr/local/lib/python3.9/site-packages (from prettytable) (0.2.5)\n",
      "Installing collected packages: prettytable\n",
      "\u001b[33m  DEPRECATION: Configuring installation scheme with distutils config files is deprecated and will no longer work in the near future. If you are using a Homebrew or Linuxbrew Python, please see discussion at https://github.com/Homebrew/homebrew-core/issues/76621\u001b[0m\u001b[33m\n",
      "\u001b[0m\u001b[33mDEPRECATION: Configuring installation scheme with distutils config files is deprecated and will no longer work in the near future. If you are using a Homebrew or Linuxbrew Python, please see discussion at https://github.com/Homebrew/homebrew-core/issues/76621\u001b[0m\u001b[33m\n",
      "\u001b[0mSuccessfully installed prettytable-3.4.1\n",
      "\u001b[33mWARNING: There was an error checking the latest version of pip.\u001b[0m\u001b[33m\n",
      "\u001b[0mNote: you may need to restart the kernel to use updated packages.\n"
     ]
    }
   ],
   "source": [
    "pip install prettytable"
   ]
  },
  {
   "cell_type": "code",
   "execution_count": 38,
   "id": "8dd44a39-1c4b-4f8e-88bf-9c8a076b47c2",
   "metadata": {},
   "outputs": [],
   "source": [
    "import requests\n",
    "import json\n",
    "import prettytable\n",
    "headers = {'Content-type': 'application/json'}\n",
    "data = json.dumps({\"seriesid\": ['CUUR0000SA0','SUUR0000SA0'],\"startyear\":\"2000\", \"endyear\":\"2022\"})\n",
    "p = requests.post('https://api.bls.gov/publicAPI/v1/timeseries/data/', data=data, headers=headers)\n",
    "json_data = json.loads(p.text)\n",
    "for series in json_data['Results']['series']:\n",
    "    x=prettytable.PrettyTable([\"series id\",\"year\",\"period\",\"value\",\"footnotes\"])\n",
    "    seriesId = series['seriesID']\n",
    "    for item in series['data']:\n",
    "        year = item['year']\n",
    "        period = item['period']\n",
    "        value = item['value']\n",
    "        footnotes=\"\"\n",
    "        for footnote in item['footnotes']:\n",
    "            if footnote:\n",
    "                footnotes = footnotes + footnote['text'] + ','\n",
    "    \n",
    "        if 'M01' <= period <= 'M12':\n",
    "            x.add_row([seriesId,year,period,value,footnotes[0:-1]])\n",
    "    output = open(seriesId + '.txt','w')\n",
    "    output.write (x.get_string())\n",
    "    output.close()"
   ]
  },
  {
   "cell_type": "code",
   "execution_count": null,
   "id": "e756dd5b-c133-4986-96fd-dd2dbbd2fe9b",
   "metadata": {},
   "outputs": [],
   "source": [
    "# Creating new variable containing CPI for the release year of the movie"
   ]
  },
  {
   "cell_type": "code",
   "execution_count": 39,
   "id": "8d85cb21-67c8-440a-b584-ec5d19c3fd33",
   "metadata": {},
   "outputs": [],
   "source": [
    "mcu['CPI_releaseyear'] = [215.3, 215.3, 218.1,224.9,224.9,229.6,233.0, 233.0, 236.7,236.7,237.0,237.0,240.0,240.0,245.1,245.1,245.1,251.1,251.1,251.1,255.7,255.7,255.7,271.0,271.0,271.0,271.0]"
   ]
  },
  {
   "cell_type": "code",
   "execution_count": null,
   "id": "f76b8270-eccf-4f0e-966c-d6c227642de0",
   "metadata": {},
   "outputs": [],
   "source": [
    "# Removing commas from monetary figures for budget and box office "
   ]
  },
  {
   "cell_type": "code",
   "execution_count": 65,
   "id": "4334a68b-a4ea-45c8-b563-b991cb5f97de",
   "metadata": {},
   "outputs": [],
   "source": [
    "mcu['production_budget'] = mcu['production_budget'].str.replace(',', '')\n",
    "mcu['domestic_box_office'] = mcu['domestic_box_office'].str.replace(',', '')\n",
    "mcu['worldwide_box_office'] = mcu['worldwide_box_office'].str.replace(',', '')"
   ]
  },
  {
   "cell_type": "code",
   "execution_count": null,
   "id": "7892d2bf-a00e-4981-87c7-2836ad3d3e93",
   "metadata": {},
   "outputs": [],
   "source": [
    "# converting variables to integers for ease of mathematical operations"
   ]
  },
  {
   "cell_type": "code",
   "execution_count": 80,
   "id": "055cc964-c487-4f7e-9b46-4d69a38933c7",
   "metadata": {},
   "outputs": [],
   "source": [
    "mcu.production_budget = mcu.production_budget.astype(int)\n",
    "mcu.domestic_box_office = mcu.domestic_box_office.astype(int)\n",
    "mcu.worldwide_box_office = mcu.worldwide_box_office.astype(int)"
   ]
  },
  {
   "cell_type": "code",
   "execution_count": null,
   "id": "f9a5b66e-1af9-4fb4-b884-2de3816ae2df",
   "metadata": {},
   "outputs": [],
   "source": [
    "# converting CPI figures from string to float"
   ]
  },
  {
   "cell_type": "code",
   "execution_count": 81,
   "id": "d253e1da-0080-4e3d-8194-bfba09110866",
   "metadata": {},
   "outputs": [],
   "source": [
    "mcu.CPI_2022 = mcu.CPI_2022.astype(float)\n",
    "mcu.CPI_releaseyear = mcu.CPI_releaseyear.astype(float)"
   ]
  },
  {
   "cell_type": "code",
   "execution_count": null,
   "id": "e76e5ed0-5643-4828-aeef-6b000db6a659",
   "metadata": {},
   "outputs": [],
   "source": [
    "# recoding budget and box office variables to account for inflation"
   ]
  },
  {
   "cell_type": "code",
   "execution_count": 82,
   "id": "9ebdfa68-0ca4-4172-a994-b50254b1c4b8",
   "metadata": {},
   "outputs": [],
   "source": [
    "mcu['production_budget_adj'] = mcu['production_budget']*(mcu['CPI_2022']/mcu['CPI_releaseyear'])"
   ]
  },
  {
   "cell_type": "code",
   "execution_count": 83,
   "id": "59f6596b-1f23-4be4-bff0-f27347ee4aa1",
   "metadata": {},
   "outputs": [],
   "source": [
    "mcu['domestic_box_office_adj'] = mcu['domestic_box_office']*(mcu['CPI_2022']/mcu['CPI_releaseyear'])"
   ]
  },
  {
   "cell_type": "code",
   "execution_count": 84,
   "id": "c58c21ba-21e5-42d2-b737-c2b2c888b5d7",
   "metadata": {},
   "outputs": [],
   "source": [
    "mcu['worldwide_box_office_adj'] = mcu['worldwide_box_office']*(mcu['CPI_2022']/mcu['CPI_releaseyear'])"
   ]
  },
  {
   "cell_type": "code",
   "execution_count": null,
   "id": "0f6aebec-5658-4e1a-9a75-9e038c83d6f5",
   "metadata": {},
   "outputs": [],
   "source": [
    "# converting recode variables to integer"
   ]
  },
  {
   "cell_type": "code",
   "execution_count": 85,
   "id": "c2a3c321-e968-418b-9257-04519829187c",
   "metadata": {},
   "outputs": [],
   "source": [
    "mcu.production_budget_adj = mcu.production_budget_adj.astype(int)\n",
    "mcu.domestic_box_office_adj = mcu.domestic_box_office_adj.astype(int)\n",
    "mcu.worldwide_box_office_adj = mcu.worldwide_box_office_adj.astype(int)"
   ]
  },
  {
   "cell_type": "code",
   "execution_count": null,
   "id": "af1969a6-e40a-464f-9652-dc8a2c0a05fb",
   "metadata": {},
   "outputs": [],
   "source": []
  }
 ],
 "metadata": {
  "kernelspec": {
   "display_name": "Python 3 (ipykernel)",
   "language": "python",
   "name": "python3"
  },
  "language_info": {
   "codemirror_mode": {
    "name": "ipython",
    "version": 3
   },
   "file_extension": ".py",
   "mimetype": "text/x-python",
   "name": "python",
   "nbconvert_exporter": "python",
   "pygments_lexer": "ipython3",
   "version": "3.9.13"
  }
 },
 "nbformat": 4,
 "nbformat_minor": 5
}
